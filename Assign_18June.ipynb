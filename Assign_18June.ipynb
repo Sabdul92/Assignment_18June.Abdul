{
 "cells": [
  {
   "cell_type": "code",
   "execution_count": null,
   "id": "2f62601a-ac0f-4f5a-8c66-169fdabc7df8",
   "metadata": {},
   "outputs": [],
   "source": [
    "Q.1) What is the role of the 'else' block in a try-except statement? Provide an example\n",
    "scenario where it would be useful.\n",
    "\n",
    "Ans:- The try block lets you test a block of code for errors. The except block lets you handle the error. \n",
    "The else block lets you execute code when there is no error. The finally block lets you execute code, regardless of the\n",
    "result of the try- and except blocks."
   ]
  },
  {
   "cell_type": "code",
   "execution_count": null,
   "id": "5d681f99-f205-49c8-8e10-e011d192ab2c",
   "metadata": {},
   "outputs": [],
   "source": [
    "Q.2) Can a try-except block be nested inside another try-except block? Explain with an example.\n",
    "\n",
    "Ans:- We can have nested try-except blocks in Python. In this case, if an exception is raised in the nested try block, \n",
    "the nested except block is used to handle it."
   ]
  },
  {
   "cell_type": "code",
   "execution_count": null,
   "id": "31e252d0-040e-4bcc-8647-99f7fe0a6854",
   "metadata": {},
   "outputs": [],
   "source": [
    "Q.3) How can you create a custom exception class in Python? Provide an example that\n",
    "demonstrates its usage.\n",
    "\n",
    "Ans:- In Python, you can create a custom exception by defining a new class that inherits from the built-in `Exception` class or one \n",
    "of its subclasses. To raise the custom exception, you can use the `raise` keyword followed by an instance of your custom \n",
    "exception class. Let’s look at an example where we need exception handling.\n",
    "\n",
    "Example: \n",
    "def divide(x, y):\n",
    "    print(f'{x}/{y} is {x / y}')\n",
    " \n",
    " \n",
    "divide(10, 2)\n",
    "divide(10, 0)\n",
    "divide(10, 4)\n",
    "\n",
    "10/2 is 5.0\n",
    "Traceback (most recent call last):\n",
    "  File \"/Users/pankaj/Documents/PycharmProjects/PythonTutorialPro/hello-world/exception_handling.py\", line 6, in <module>\n",
    "    divide(10, 0)\n",
    "  File \"/Users/pankaj/Documents/PycharmProjects/PythonTutorialPro/hello-world/exception_handling.py\", line 2, in divide\n",
    "    print(f'{x}/{y} is {x / y}')\n",
    "ZeroDivisionError: division by zero"
   ]
  },
  {
   "cell_type": "code",
   "execution_count": null,
   "id": "e5de8e10-f23a-4755-b31c-ceb67e2bbc63",
   "metadata": {},
   "outputs": [],
   "source": [
    "Q.4) What are some common exceptions that are built-in to Python?\n",
    "\n",
    "Ans:- Python Built-in Exceptions. Python has a number of built-in exceptions, such as the well-known errors SyntaxError, NameError,\n",
    "and TypeError. These Python Exceptions are thrown by standard library routines or by the interpreter itself. They are built-in, \n",
    "which implies they are present in the source code at all times.\n"
   ]
  },
  {
   "cell_type": "code",
   "execution_count": null,
   "id": "c543ef1d-f4f5-475b-bd17-c82ea61bdb97",
   "metadata": {},
   "outputs": [],
   "source": [
    "Q.5) What is logging in Python, and why is it important in software development?\n",
    "\n",
    "Ans:- Logging is a way to store information about your script and track events that occur. When writing any complex script in Python,\n",
    "logging is essential for debugging software as you develop it. Without logging, finding the source of a problem in your code may\n",
    "be extremely time consuming."
   ]
  },
  {
   "cell_type": "code",
   "execution_count": null,
   "id": "f355f73e-2f03-41f3-935c-ed8113df8c80",
   "metadata": {},
   "outputs": [],
   "source": [
    "Q.6) Explain the purpose of log levels in Python logging and provide examples of when\n",
    "each log level would be appropriate.\n",
    "\n",
    "Ans:- Python has six log levels with each one assigned a specific integer indicating the severity of the log:\n",
    "\n",
    "NOTSET=0\n",
    "DEBUG=10\n",
    "INFO=20\n",
    "WARN=30\n",
    "ERROR=40\n",
    "CRITICAL=50\n"
   ]
  },
  {
   "cell_type": "code",
   "execution_count": null,
   "id": "ae467b34-b209-43a2-92c6-26a5d5755331",
   "metadata": {},
   "outputs": [],
   "source": [
    "Q.7) What are log formatters in Python logging, and how can you customise the log\n",
    "message format using formatters?\n",
    "\n",
    "Python logging methods\n",
    "Logger.critical(msg, *args, **kwargs)\n",
    "Logger.error(msg, *args, **kwargs)\n",
    "Logger.debug(msg, *args, **kwargs)\n",
    "Logger.info(msg, *args, **kwargs)\n",
    "Logger.warn(msg, *args, **kwargs)"
   ]
  },
  {
   "cell_type": "code",
   "execution_count": null,
   "id": "01e10641-bd44-4021-882e-8c05732fa58d",
   "metadata": {},
   "outputs": [],
   "source": [
    "Q.8) How can you set up logging to capture log messages from multiple modules or\n",
    "classes in a Python application?\n",
    "\n",
    "You can configure logging as shown above using the module and class functions or \n",
    "by creating a config file or a dictionary and loading it using fileConfig() or \n",
    "dictConfig() respectively. These are useful in case you want to change your logging configuration in a running application."
   ]
  },
  {
   "cell_type": "code",
   "execution_count": null,
   "id": "406f300b-f5db-481a-8ec8-feac78855329",
   "metadata": {},
   "outputs": [],
   "source": [
    "Q.9) What is the difference between the logging and print statements in Python? When\n",
    "should you use logging over print statements in a real-world application?\n",
    "\n",
    "Logging in Python:-\t                                Print in Python :-\n",
    "*Record events and errors that occur              *Displays the information to the console for the debugging purposes.\n",
    "during the execution of Python programs.\n",
    "\n",
    "*Mainly used in the production environment.\t      *Mainly for debugging."
   ]
  },
  {
   "cell_type": "code",
   "execution_count": 7,
   "id": "e1c873a4-b218-47d1-86e5-bfb04f9c887e",
   "metadata": {},
   "outputs": [
    {
     "name": "stderr",
     "output_type": "stream",
     "text": [
      "INFO:root:Hello, World! INFO\n"
     ]
    }
   ],
   "source": [
    "Q.10) Write a Python program that logs a message to a file named \"app.log\" with the\n",
    "following requirements:\n",
    "● The log message should be \"Hello, World!\"\n",
    "● The log level should be set to \"INFO.\"\n",
    "● The log file should append new log entries without overwriting previous ones.\n",
    "\n",
    "\n",
    "import logging\n",
    "logging.basicConfig(level = logging.INFO)\n",
    "\n",
    "def login123(user):\n",
    "    logging.info('Hello, World! %s', user)\n",
    "    \n",
    "login123(\"INFO\")"
   ]
  },
  {
   "cell_type": "code",
   "execution_count": 8,
   "id": "8265f483-bbbe-4854-a027-73e49a2ee2ad",
   "metadata": {},
   "outputs": [
    {
     "name": "stderr",
     "output_type": "stream",
     "text": [
      "ERROR:root:Division by Zero\n"
     ]
    }
   ],
   "source": [
    "Q.11) Create a Python program that logs an error message to the console and a file named\n",
    "\"errors.log\" if an exception occurs during the program's execution. The error\n",
    "message should include the exception type and a timestamp.\n",
    "\n",
    "import logging\n",
    "logging.basicConfig(level=logging.ERROR)\n",
    "def DivideByZero(n,d):\n",
    "    try:\n",
    "        results = n /d\n",
    "    except ZeroDivisionError :\n",
    "        logging.error(\"Division by Zero\")\n",
    "    else:\n",
    "        print(results)\n",
    "DivideByZero(5,0)"
   ]
  }
 ],
 "metadata": {
  "kernelspec": {
   "display_name": "Python 3 (ipykernel)",
   "language": "python",
   "name": "python3"
  },
  "language_info": {
   "codemirror_mode": {
    "name": "ipython",
    "version": 3
   },
   "file_extension": ".py",
   "mimetype": "text/x-python",
   "name": "python",
   "nbconvert_exporter": "python",
   "pygments_lexer": "ipython3",
   "version": "3.10.6"
  }
 },
 "nbformat": 4,
 "nbformat_minor": 5
}
